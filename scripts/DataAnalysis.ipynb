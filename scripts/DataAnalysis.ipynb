{
 "cells": [
  {
   "cell_type": "markdown",
   "id": "6d503d50",
   "metadata": {},
   "source": [
    "<table style=\"width: 100%\">\n",
    "    <tr>\n",
    "    <td style=\"width: 60%; text-align: center\">\n",
    "<h1>Data Analysis & Explanation</h1>\n",
    "     </tr>\n",
    "</table>"
   ]
  },
  {
   "cell_type": "code",
   "execution_count": null,
   "id": "2ab0561b",
   "metadata": {},
   "outputs": [],
   "source": [
    "# Importation\n",
    "from util import dataReader, dataTransform_date, quoted_spread\n",
    "import pandas as pd\n",
    "import numpy as np\n",
    "import sys\n",
    "\n",
    "#plotly display error handling\n",
    "import plotly.io as pio\n",
    "pio.renderers.default = \"iframe\"\n",
    "\n",
    "import plotly.express as px #interactive graphic\n",
    "import plotly.figure_factory as ff\n",
    "\n",
    "# Avoiding warnings\n",
    "if not sys.warnoptions:\n",
    "    import warnings\n",
    "    warnings.simplefilter(\"ignore\")"
   ]
  },
  {
   "cell_type": "markdown",
   "id": "90c344bd",
   "metadata": {},
   "source": [
    "##### Data collection and engineering"
   ]
  },
  {
   "cell_type": "code",
   "execution_count": null,
   "id": "cab2ab01",
   "metadata": {},
   "outputs": [],
   "source": [
    "rfq_raw = dataReader(\"input_data/rfqs.csv\")"
   ]
  },
  {
   "cell_type": "code",
   "execution_count": null,
   "id": "89e00683",
   "metadata": {},
   "outputs": [],
   "source": [
    "df_rfq = rfq_raw.copy(deep=True)"
   ]
  },
  {
   "cell_type": "code",
   "execution_count": null,
   "id": "7ff57f7d",
   "metadata": {},
   "outputs": [],
   "source": [
    "df_rfq.head()"
   ]
  },
  {
   "cell_type": "code",
   "execution_count": null,
   "id": "2937b3a6",
   "metadata": {},
   "outputs": [],
   "source": [
    "df_rfq.drop([\"Unnamed: 0\"], axis=1, inplace=True)"
   ]
  },
  {
   "cell_type": "code",
   "execution_count": null,
   "id": "7be47370",
   "metadata": {},
   "outputs": [],
   "source": [
    "df_rfq = dataTransform_date(df_rfq, 'date_time')"
   ]
  },
  {
   "cell_type": "code",
   "execution_count": null,
   "id": "fefd36f7",
   "metadata": {},
   "outputs": [],
   "source": [
    "df_rfq.head()"
   ]
  },
  {
   "cell_type": "code",
   "execution_count": null,
   "id": "9e69d74e",
   "metadata": {},
   "outputs": [],
   "source": [
    "df_rfq = quoted_spread(df_rfq)"
   ]
  },
  {
   "cell_type": "code",
   "execution_count": null,
   "id": "b257294b",
   "metadata": {},
   "outputs": [],
   "source": [
    "df_rfq.head()"
   ]
  },
  {
   "cell_type": "markdown",
   "id": "343fae2c",
   "metadata": {},
   "source": [
    "##### Data visualization"
   ]
  },
  {
   "cell_type": "code",
   "execution_count": null,
   "id": "22475870",
   "metadata": {},
   "outputs": [],
   "source": [
    "df_instrument = pd.DataFrame(df_rfq.groupby(['instrument'])['date_time'].count()).reset_index()\n",
    "df_client = pd.DataFrame(df_rfq.groupby(['client'])['date_time'].count()).reset_index()\n",
    "df_timing = pd.DataFrame(df_rfq.groupby(['month'])['date_time'].count()).reset_index()\n",
    "\n",
    "df_spread_month = pd.DataFrame(df_rfq.groupby(['month'])['quoted_spread'].mean()).reset_index()\n",
    "df_spread_instrument = pd.DataFrame(df_rfq.groupby(['instrument'])['quoted_spread'].mean()).reset_index()"
   ]
  },
  {
   "cell_type": "code",
   "execution_count": null,
   "id": "c07d16ee",
   "metadata": {},
   "outputs": [],
   "source": [
    "fig = px.histogram(df_instrument, x='instrument', y='date_time', title=\"Main instrument(s) requested by clients\")\n",
    "fig.update_layout(plot_bgcolor='white')\n",
    "fig.show()"
   ]
  },
  {
   "cell_type": "code",
   "execution_count": null,
   "id": "68c0cd55",
   "metadata": {},
   "outputs": [],
   "source": [
    "df_instrument_t1 = pd.DataFrame(df_rfq.groupby(['instrument', 'won'])['date_time'].count()).reset_index()"
   ]
  },
  {
   "cell_type": "code",
   "execution_count": null,
   "id": "5e4bf0e5",
   "metadata": {},
   "outputs": [],
   "source": [
    "prop_win = df_instrument_t1.groupby('instrument').apply(\n",
    "        lambda group: pd.Series({\n",
    "        \"losses\": group.loc[group[\"won\"] == 0, \"date_time\"].sum(),\n",
    "        \"wins\": group.loc[group[\"won\"] == 1, \"date_time\"].sum(),\n",
    "    })\n",
    ").reset_index()\n",
    "\n",
    "prop_win[\"win_proportion\"] = prop_win[\"wins\"] / (prop_win[\"wins\"] + prop_win[\"losses\"])\n",
    "prop_win[\"loss_proportion\"] = prop_win[\"losses\"] / (prop_win[\"wins\"] + prop_win[\"losses\"])"
   ]
  },
  {
   "cell_type": "code",
   "execution_count": null,
   "id": "e0c58b72",
   "metadata": {},
   "outputs": [],
   "source": [
    "fig = px.histogram(prop_win, x='instrument', y='win_proportion', title=\"ratio gain\")\n",
    "fig.update_layout(plot_bgcolor='white')\n",
    "fig.show()"
   ]
  },
  {
   "cell_type": "code",
   "execution_count": null,
   "id": "b34cb95e",
   "metadata": {},
   "outputs": [],
   "source": [
    "df_instrument_t2 = pd.DataFrame(df_rfq.groupby(['instrument', 'won'])['quoted_spread'].mean()).reset_index()"
   ]
  },
  {
   "cell_type": "code",
   "execution_count": null,
   "id": "bec22509",
   "metadata": {},
   "outputs": [],
   "source": [
    "fig = px.histogram(df_instrument_t2, x='instrument', y='quoted_spread', color='won', title=\"Spread per instrument\")\n",
    "fig.update_layout(plot_bgcolor='white')\n",
    "fig.show()"
   ]
  },
  {
   "cell_type": "code",
   "execution_count": null,
   "id": "9057a10e",
   "metadata": {},
   "outputs": [],
   "source": [
    "fig = px.line(df_timing, x='month', y='date_time', title=\"Time trend requested quote\")\n",
    "fig.update_layout(plot_bgcolor='white')\n",
    "fig.show()"
   ]
  },
  {
   "cell_type": "code",
   "execution_count": null,
   "id": "0a5569d5",
   "metadata": {},
   "outputs": [],
   "source": [
    "fig = px.line(df_spread_month, x='month', y='quoted_spread', title=\"Time trend spread\")\n",
    "fig.update_layout(plot_bgcolor='white')\n",
    "fig.show()"
   ]
  },
  {
   "cell_type": "code",
   "execution_count": null,
   "id": "74df2cdd",
   "metadata": {},
   "outputs": [],
   "source": [
    "fig = px.histogram(df_spread_instrument, x='instrument', y='quoted_spread', title=\"Instrument trend spread\")\n",
    "fig.update_layout(plot_bgcolor='white')\n",
    "fig.show()"
   ]
  },
  {
   "cell_type": "markdown",
   "id": "cfe69cca",
   "metadata": {},
   "source": [
    "##### Clustering"
   ]
  },
  {
   "cell_type": "code",
   "execution_count": null,
   "id": "01abff31",
   "metadata": {},
   "outputs": [],
   "source": [
    "data_model = df_rfq.drop(columns=['date_time'])"
   ]
  },
  {
   "cell_type": "code",
   "execution_count": null,
   "id": "4cc04670",
   "metadata": {},
   "outputs": [],
   "source": [
    "from sklearn.compose import ColumnTransformer\n",
    "from sklearn.preprocessing import OneHotEncoder\n",
    "class_transformer = ColumnTransformer(transformers=[('encoder', OneHotEncoder(), [0, 1])], remainder='passthrough') #We applied the encoder only for instrument and client\n",
    "data_model = class_transformer.fit_transform(data_model)"
   ]
  },
  {
   "cell_type": "code",
   "execution_count": null,
   "id": "ba8892cb",
   "metadata": {},
   "outputs": [],
   "source": [
    "from sklearn.cluster import KMeans\n",
    "\n",
    "nb_clusters = range(1,11)\n",
    "inertia = []\n",
    "\n",
    "#recherche de clusters optimal\n",
    "for i in nb_clusters:\n",
    "    kmeans = KMeans(n_clusters=i, random_state=2)\n",
    "    kmeans = kmeans.fit(data_model)\n",
    "    u = kmeans.inertia_\n",
    "    inertia.append(u)\n",
    "    print(\"L'inertie pour :\", i, \"clusters est:\", u)"
   ]
  },
  {
   "cell_type": "code",
   "execution_count": null,
   "id": "bb056c4d",
   "metadata": {},
   "outputs": [],
   "source": [
    "x = np.arange(len(nb_clusters))\n",
    "y = inertia\n",
    "df_plot_inertia = pd.DataFrame([x, y]).T\n",
    "\n",
    "df_plot_inertia.rename(columns={0: 'Cluster', 1: 'Inertia'}, inplace=True)\n",
    "# df_plot_inertia.columns"
   ]
  },
  {
   "cell_type": "code",
   "execution_count": null,
   "id": "246753ef",
   "metadata": {},
   "outputs": [],
   "source": [
    "fig = px.line(df_plot_inertia, x='Cluster', y=\"Inertia\", title='Visualization inertia per cluster')\n",
    "fig.update_layout(plot_bgcolor='white')\n",
    "fig.show()"
   ]
  },
  {
   "cell_type": "code",
   "execution_count": null,
   "id": "b50a8651",
   "metadata": {},
   "outputs": [],
   "source": [
    "# Application with 4 clusters\n",
    "kmeans = KMeans(n_clusters=4, random_state=2)\n",
    "kmeans = kmeans.fit(data_model)\n",
    "\n",
    "df_rfq[\"class\"] = kmeans.labels_\n",
    "\n",
    "class_1 = df_rfq[df_rfq[\"class\"]==0]\n",
    "class_2 = df_rfq[df_rfq[\"class\"]==1]\n",
    "class_3 = df_rfq[df_rfq[\"class\"]==2]\n",
    "class_4 = df_rfq[df_rfq[\"class\"]==3]"
   ]
  },
  {
   "cell_type": "markdown",
   "id": "444d7dd5",
   "metadata": {},
   "source": [
    "#### Data analysis and visualization for cluster 1"
   ]
  },
  {
   "cell_type": "code",
   "execution_count": null,
   "id": "4bb545d6",
   "metadata": {},
   "outputs": [],
   "source": [
    "class_1.quoted_spread.mean()"
   ]
  },
  {
   "cell_type": "code",
   "execution_count": null,
   "id": "7bb8ec1d",
   "metadata": {},
   "outputs": [],
   "source": [
    "df_instrument1 = pd.DataFrame(class_1.groupby(['instrument'])['date_time'].count()).reset_index()\n",
    "df_client1 = pd.DataFrame(class_1.groupby(['client'])['date_time'].count()).reset_index()\n",
    "df_timing1 = pd.DataFrame(class_1.groupby(['month'])['date_time'].count()).reset_index()"
   ]
  },
  {
   "cell_type": "code",
   "execution_count": null,
   "id": "d152cfdd",
   "metadata": {
    "scrolled": true
   },
   "outputs": [],
   "source": [
    "fig = px.histogram(df_instrument1, x='instrument', y='date_time', title=\"Main instrument(s) in cluster 1\")\n",
    "fig.update_layout(plot_bgcolor='white')\n",
    "fig.show()"
   ]
  },
  {
   "cell_type": "code",
   "execution_count": null,
   "id": "fa951685",
   "metadata": {},
   "outputs": [],
   "source": [
    "fig = px.histogram(df_client1, x='client', y='date_time', title=\"Main client(s) in cluster 1\")\n",
    "fig.update_layout(plot_bgcolor='white')\n",
    "fig.show()"
   ]
  },
  {
   "cell_type": "code",
   "execution_count": null,
   "id": "434473bb",
   "metadata": {},
   "outputs": [],
   "source": [
    "fig = px.line(df_timing1, x='month', y='date_time', title=\"Time trend in cluster 1\")\n",
    "fig.update_layout(plot_bgcolor='white')\n",
    "fig.show()"
   ]
  },
  {
   "cell_type": "code",
   "execution_count": null,
   "id": "d667c1f0",
   "metadata": {},
   "outputs": [],
   "source": [
    "df_spread_month1 = pd.DataFrame(class_1.groupby(['month'])['quoted_spread'].mean()).reset_index()\n",
    "df_spread_instrument1 = pd.DataFrame(class_1.groupby(['instrument'])['quoted_spread'].mean()).reset_index()"
   ]
  },
  {
   "cell_type": "code",
   "execution_count": null,
   "id": "9ddb8117",
   "metadata": {},
   "outputs": [],
   "source": [
    "fig = px.line(df_spread_month1, x='month', y='quoted_spread', title=\"Spread per month in cluster 1\")\n",
    "fig.update_layout(plot_bgcolor='white')\n",
    "fig.show()"
   ]
  },
  {
   "cell_type": "code",
   "execution_count": null,
   "id": "0d2b2e2a",
   "metadata": {},
   "outputs": [],
   "source": [
    "fig = px.histogram(df_spread_instrument1, x='instrument', y='quoted_spread', title=\"Spread per instrument in cluster 1\")\n",
    "fig.update_layout(plot_bgcolor='white')\n",
    "fig.show()"
   ]
  },
  {
   "cell_type": "markdown",
   "id": "78c834d1",
   "metadata": {},
   "source": [
    "#### Data analysis and visualization for cluster 2"
   ]
  },
  {
   "cell_type": "code",
   "execution_count": null,
   "id": "8afd7066",
   "metadata": {},
   "outputs": [],
   "source": [
    "class_2.quoted_spread.mean()"
   ]
  },
  {
   "cell_type": "code",
   "execution_count": null,
   "id": "f3c5215b",
   "metadata": {},
   "outputs": [],
   "source": [
    "df_instrument2 = pd.DataFrame(class_2.groupby(['instrument'])['date_time'].count()).reset_index()\n",
    "df_client2 = pd.DataFrame(class_2.groupby(['client'])['date_time'].count()).reset_index()\n",
    "df_timing2 = pd.DataFrame(class_2.groupby(['month'])['date_time'].count()).reset_index()"
   ]
  },
  {
   "cell_type": "code",
   "execution_count": null,
   "id": "421dfbef",
   "metadata": {},
   "outputs": [],
   "source": [
    "fig = px.histogram(df_instrument2, x='instrument', y='date_time', title=\"Main instrument(s) in cluster 2\")\n",
    "fig.update_layout(plot_bgcolor='white')\n",
    "fig.show()"
   ]
  },
  {
   "cell_type": "code",
   "execution_count": null,
   "id": "e66de4f0",
   "metadata": {},
   "outputs": [],
   "source": [
    "fig = px.histogram(df_client2, x='client', y='date_time', title=\"Main client(s) in cluster 2\")\n",
    "fig.update_layout(plot_bgcolor='white')\n",
    "fig.show()"
   ]
  },
  {
   "cell_type": "code",
   "execution_count": null,
   "id": "df23121e",
   "metadata": {},
   "outputs": [],
   "source": [
    "fig = px.line(df_timing2, x='month', y='date_time', title=\"Number of deal requested by clients per month in cluster 3\")\n",
    "fig.update_layout(plot_bgcolor='white')\n",
    "fig.show()"
   ]
  },
  {
   "cell_type": "code",
   "execution_count": null,
   "id": "3c394999",
   "metadata": {},
   "outputs": [],
   "source": [
    "df_spread_month2 = pd.DataFrame(class_2.groupby(['month'])['quoted_spread'].mean()).reset_index()\n",
    "df_spread_instrument2 = pd.DataFrame(class_2.groupby(['instrument'])['quoted_spread'].mean()).reset_index()"
   ]
  },
  {
   "cell_type": "code",
   "execution_count": null,
   "id": "df96a449",
   "metadata": {},
   "outputs": [],
   "source": [
    "fig = px.line(df_spread_month2, x='month', y='quoted_spread', title=\"Spread per month in cluster 2\")\n",
    "fig.update_layout(plot_bgcolor='white')\n",
    "fig.show()"
   ]
  },
  {
   "cell_type": "code",
   "execution_count": null,
   "id": "16c4e94a",
   "metadata": {},
   "outputs": [],
   "source": [
    "fig = px.histogram(df_spread_instrument2, x='instrument', y='quoted_spread', title=\"Spread per instrument in cluster 2\")\n",
    "fig.update_layout(plot_bgcolor='white')\n",
    "fig.show()"
   ]
  },
  {
   "cell_type": "markdown",
   "id": "9788dcfe",
   "metadata": {},
   "source": [
    "#### Data analysis and visualization for cluster 3"
   ]
  },
  {
   "cell_type": "code",
   "execution_count": null,
   "id": "0d812f2c",
   "metadata": {},
   "outputs": [],
   "source": [
    "class_3.quoted_spread.mean()"
   ]
  },
  {
   "cell_type": "code",
   "execution_count": null,
   "id": "39fec96e",
   "metadata": {},
   "outputs": [],
   "source": [
    "df_instrument3 = pd.DataFrame(class_3.groupby(['instrument'])['date_time'].count()).reset_index()\n",
    "df_client3 = pd.DataFrame(class_3.groupby(['client'])['date_time'].count()).reset_index()\n",
    "df_timing3 = pd.DataFrame(class_3.groupby(['month'])['date_time'].count()).reset_index()"
   ]
  },
  {
   "cell_type": "code",
   "execution_count": null,
   "id": "198b70c9",
   "metadata": {},
   "outputs": [],
   "source": [
    "fig = px.histogram(df_instrument3, x='instrument', y='date_time', title=\"Main instrument(s) in cluster 3\")\n",
    "fig.update_layout(plot_bgcolor='white')\n",
    "fig.show()"
   ]
  },
  {
   "cell_type": "code",
   "execution_count": null,
   "id": "6f8f95f3",
   "metadata": {},
   "outputs": [],
   "source": [
    "fig = px.histogram(df_client3, x='client', y='date_time', title=\"Main client(s) in cluster 3\")\n",
    "fig.update_layout(plot_bgcolor='white')\n",
    "fig.show()"
   ]
  },
  {
   "cell_type": "code",
   "execution_count": null,
   "id": "5ee9500b",
   "metadata": {},
   "outputs": [],
   "source": [
    "fig = px.line(df_timing3, x='month', y='date_time', title=\"Number of deal requested by clients per month in cluster 3\")\n",
    "fig.update_layout(plot_bgcolor='white')\n",
    "fig.show()"
   ]
  },
  {
   "cell_type": "code",
   "execution_count": null,
   "id": "a6fff112",
   "metadata": {},
   "outputs": [],
   "source": [
    "df_spread_month3 = pd.DataFrame(class_3.groupby(['month'])['quoted_spread'].mean()).reset_index()\n",
    "df_spread_instrument3 = pd.DataFrame(class_3.groupby(['instrument'])['quoted_spread'].mean()).reset_index()"
   ]
  },
  {
   "cell_type": "code",
   "execution_count": null,
   "id": "e641b842",
   "metadata": {},
   "outputs": [],
   "source": [
    "fig = px.line(df_spread_month3, x='month', y='quoted_spread', title=\"Spread per month in cluster 3\")\n",
    "fig.update_layout(plot_bgcolor='white')\n",
    "fig.show()"
   ]
  },
  {
   "cell_type": "code",
   "execution_count": null,
   "id": "ae8d28b4",
   "metadata": {},
   "outputs": [],
   "source": [
    "fig = px.histogram(df_spread_instrument3, x='instrument', y='quoted_spread', title=\"Spread per instrument in cluster 3\")\n",
    "fig.update_layout(plot_bgcolor='white')\n",
    "fig.show()"
   ]
  },
  {
   "cell_type": "markdown",
   "id": "7227ac4d",
   "metadata": {},
   "source": [
    "#### Data analysis and visualization for cluster 4"
   ]
  },
  {
   "cell_type": "code",
   "execution_count": null,
   "id": "081b599f",
   "metadata": {},
   "outputs": [],
   "source": [
    "class_4.quoted_spread.mean()"
   ]
  },
  {
   "cell_type": "code",
   "execution_count": null,
   "id": "a069f95a",
   "metadata": {},
   "outputs": [],
   "source": [
    "df_instrument4 = pd.DataFrame(class_4.groupby(['instrument'])['date_time'].count()).reset_index()\n",
    "df_client4 = pd.DataFrame(class_4.groupby(['client'])['date_time'].count()).reset_index()\n",
    "df_timing4 = pd.DataFrame(class_4.groupby(['month'])['date_time'].count()).reset_index()"
   ]
  },
  {
   "cell_type": "code",
   "execution_count": null,
   "id": "9a9889ef",
   "metadata": {},
   "outputs": [],
   "source": [
    "fig = px.histogram(df_instrument4, x='instrument', y='date_time', title=\"Main instrument(s) in cluster 4\")\n",
    "fig.update_layout(plot_bgcolor='white')\n",
    "fig.show()"
   ]
  },
  {
   "cell_type": "code",
   "execution_count": null,
   "id": "0c59e5b7",
   "metadata": {},
   "outputs": [],
   "source": [
    "fig = px.histogram(df_client4, x='client', y='date_time', title=\"Main client(s) in cluster 4\")\n",
    "fig.update_layout(plot_bgcolor='white')\n",
    "fig.show()"
   ]
  },
  {
   "cell_type": "code",
   "execution_count": null,
   "id": "97001690",
   "metadata": {},
   "outputs": [],
   "source": [
    "fig = px.line(df_timing4, x='month', y='date_time', title=\"Number of deal requested by clients per month in cluster 4\")\n",
    "fig.update_layout(plot_bgcolor='white')\n",
    "fig.show()"
   ]
  },
  {
   "cell_type": "code",
   "execution_count": null,
   "id": "05e70f96",
   "metadata": {},
   "outputs": [],
   "source": [
    "df_spread_month4 = pd.DataFrame(class_4.groupby(['month'])['quoted_spread'].mean()).reset_index()\n",
    "df_spread_instrument4 = pd.DataFrame(class_4.groupby(['instrument'])['quoted_spread'].mean()).reset_index()"
   ]
  },
  {
   "cell_type": "code",
   "execution_count": null,
   "id": "f171c794",
   "metadata": {},
   "outputs": [],
   "source": [
    "fig = px.line(df_spread_month4, x='month', y='quoted_spread', title=\"Spread per month in cluster 4\")\n",
    "fig.update_layout(plot_bgcolor='white')\n",
    "fig.show()"
   ]
  },
  {
   "cell_type": "code",
   "execution_count": null,
   "id": "98c7d624",
   "metadata": {},
   "outputs": [],
   "source": [
    "fig = px.histogram(df_spread_instrument4, x='instrument', y='quoted_spread', title=\"Spread per instrument in cluster 4\")\n",
    "fig.update_layout(plot_bgcolor='white')\n",
    "fig.show()"
   ]
  },
  {
   "cell_type": "code",
   "execution_count": null,
   "id": "a2b52c40",
   "metadata": {},
   "outputs": [],
   "source": [
    "ration_winning_1 = len(class_1[class_1['won']==1]) / len(class_1)\n",
    "ration_winning_2 = len(class_2[class_2['won']==1]) / len(class_2)\n",
    "ration_winning_3 = len(class_3[class_3['won']==1]) / len(class_3)\n",
    "ration_winning_4 = len(class_4[class_4['won']==1]) / len(class_4)"
   ]
  },
  {
   "cell_type": "code",
   "execution_count": null,
   "id": "090b079e",
   "metadata": {},
   "outputs": [],
   "source": [
    "ration_winning_1"
   ]
  },
  {
   "cell_type": "code",
   "execution_count": null,
   "id": "a3d3ab9f",
   "metadata": {},
   "outputs": [],
   "source": [
    "ration_winning_2"
   ]
  },
  {
   "cell_type": "code",
   "execution_count": null,
   "id": "8a2f656b",
   "metadata": {},
   "outputs": [],
   "source": [
    "ration_winning_3"
   ]
  },
  {
   "cell_type": "code",
   "execution_count": null,
   "id": "43ee6234",
   "metadata": {},
   "outputs": [],
   "source": [
    "ration_winning_4"
   ]
  },
  {
   "cell_type": "code",
   "execution_count": null,
   "id": "7b750442",
   "metadata": {},
   "outputs": [],
   "source": []
  }
 ],
 "metadata": {
  "kernelspec": {
   "display_name": "Python 3 (ipykernel)",
   "language": "python",
   "name": "python3"
  },
  "language_info": {
   "codemirror_mode": {
    "name": "ipython",
    "version": 3
   },
   "file_extension": ".py",
   "mimetype": "text/x-python",
   "name": "python",
   "nbconvert_exporter": "python",
   "pygments_lexer": "ipython3",
   "version": "3.11.2"
  }
 },
 "nbformat": 4,
 "nbformat_minor": 5
}
